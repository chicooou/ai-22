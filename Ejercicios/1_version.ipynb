{
 "cells": [
  {
   "cell_type": "markdown",
   "id": "0a5cfdfa",
   "metadata": {},
   "source": [
    "# Ejercicio 1: \n",
    "obtener la version de la libreria pandas"
   ]
  },
  {
   "cell_type": "markdown",
   "id": "c585b7ce",
   "metadata": {},
   "source": [
    "# Solución:"
   ]
  },
  {
   "cell_type": "code",
   "execution_count": 1,
   "id": "56715488",
   "metadata": {},
   "outputs": [],
   "source": [
    "import pandas as pd\n"
   ]
  },
  {
   "cell_type": "code",
   "execution_count": 2,
   "id": "74346beb",
   "metadata": {},
   "outputs": [
    {
     "data": {
      "text/plain": [
       "'1.3.4'"
      ]
     },
     "execution_count": 2,
     "metadata": {},
     "output_type": "execute_result"
    }
   ],
   "source": [
    "pd.__version__"
   ]
  }
 ],
 "metadata": {
  "kernelspec": {
   "display_name": "Python 3 (ipykernel)",
   "language": "python",
   "name": "python3"
  },
  "language_info": {
   "codemirror_mode": {
    "name": "ipython",
    "version": 3
   },
   "file_extension": ".py",
   "mimetype": "text/x-python",
   "name": "python",
   "nbconvert_exporter": "python",
   "pygments_lexer": "ipython3",
   "version": "3.9.7"
  }
 },
 "nbformat": 4,
 "nbformat_minor": 5
}
