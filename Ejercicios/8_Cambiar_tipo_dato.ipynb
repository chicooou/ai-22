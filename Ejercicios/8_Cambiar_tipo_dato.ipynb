{
 "cells": [
  {
   "cell_type": "markdown",
   "id": "b8162a93",
   "metadata": {},
   "source": [
    "# Ejercicio 8\n",
    "Cambiar el tipo de datos de un objeto Series."
   ]
  },
  {
   "cell_type": "code",
   "execution_count": 1,
   "id": "1b1f931c",
   "metadata": {},
   "outputs": [],
   "source": [
    "import pandas as pd\n"
   ]
  },
  {
   "cell_type": "code",
   "execution_count": 23,
   "id": "8bb4f35e",
   "metadata": {},
   "outputs": [],
   "source": [
    "lista = ['1', '2', 'python', '4.25', '5']\n",
    "datos = pd.Series(lista)"
   ]
  },
  {
   "cell_type": "code",
   "execution_count": 24,
   "id": "22d14123",
   "metadata": {},
   "outputs": [
    {
     "data": {
      "text/plain": [
       "0         1\n",
       "1         2\n",
       "2    python\n",
       "3      4.25\n",
       "4         5\n",
       "dtype: object"
      ]
     },
     "execution_count": 24,
     "metadata": {},
     "output_type": "execute_result"
    }
   ],
   "source": [
    "datos # estos son de tipo objetco ya que son parte de una lista, necesitamos convertirlos a tipo numerico"
   ]
  },
  {
   "cell_type": "code",
   "execution_count": 26,
   "id": "9217782e",
   "metadata": {},
   "outputs": [
    {
     "data": {
      "text/plain": [
       "0    1.00\n",
       "1    2.00\n",
       "2     NaN\n",
       "3    4.25\n",
       "4    5.00\n",
       "dtype: float64"
      ]
     },
     "execution_count": 26,
     "metadata": {},
     "output_type": "execute_result"
    }
   ],
   "source": [
    "datos = pd.to_numeric(datos, errors = 'coerce')\n",
    "datos"
   ]
  },
  {
   "cell_type": "code",
   "execution_count": null,
   "id": "cdd296cd",
   "metadata": {},
   "outputs": [],
   "source": []
  }
 ],
 "metadata": {
  "kernelspec": {
   "display_name": "Python 3 (ipykernel)",
   "language": "python",
   "name": "python3"
  },
  "language_info": {
   "codemirror_mode": {
    "name": "ipython",
    "version": 3
   },
   "file_extension": ".py",
   "mimetype": "text/x-python",
   "name": "python",
   "nbconvert_exporter": "python",
   "pygments_lexer": "ipython3",
   "version": "3.9.7"
  }
 },
 "nbformat": 4,
 "nbformat_minor": 5
}
