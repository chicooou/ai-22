{
 "cells": [
  {
   "cell_type": "markdown",
   "id": "0f9cf21a",
   "metadata": {},
   "source": [
    "# Ejercicio 4:\n",
    "Realizar Operaciones Aritméticas Básicas entre Objetos Series"
   ]
  },
  {
   "cell_type": "code",
   "execution_count": 2,
   "id": "86472e8f",
   "metadata": {},
   "outputs": [],
   "source": [
    "import pandas as pd\n"
   ]
  },
  {
   "cell_type": "code",
   "execution_count": 4,
   "id": "4f9bbcd3",
   "metadata": {},
   "outputs": [],
   "source": [
    "serie1 = pd.Series([1, 2, 3, 4, 5])\n",
    "serie2 = pd.Series([9, 8, 7, 6, 5])"
   ]
  },
  {
   "cell_type": "code",
   "execution_count": 6,
   "id": "3b7a0779",
   "metadata": {},
   "outputs": [
    {
     "data": {
      "text/plain": [
       "0    10\n",
       "1    10\n",
       "2    10\n",
       "3    10\n",
       "4    10\n",
       "dtype: int64"
      ]
     },
     "execution_count": 6,
     "metadata": {},
     "output_type": "execute_result"
    }
   ],
   "source": [
    "serie1 + serie2"
   ]
  },
  {
   "cell_type": "code",
   "execution_count": 8,
   "id": "4423fc5c",
   "metadata": {},
   "outputs": [
    {
     "data": {
      "text/plain": [
       "0   -8\n",
       "1   -6\n",
       "2   -4\n",
       "3   -2\n",
       "4    0\n",
       "dtype: int64"
      ]
     },
     "execution_count": 8,
     "metadata": {},
     "output_type": "execute_result"
    }
   ],
   "source": [
    "serie1 - serie2"
   ]
  },
  {
   "cell_type": "code",
   "execution_count": 9,
   "id": "6bf7ad0d",
   "metadata": {},
   "outputs": [
    {
     "data": {
      "text/plain": [
       "0     9\n",
       "1    16\n",
       "2    21\n",
       "3    24\n",
       "4    25\n",
       "dtype: int64"
      ]
     },
     "execution_count": 9,
     "metadata": {},
     "output_type": "execute_result"
    }
   ],
   "source": [
    "serie1 * serie2"
   ]
  },
  {
   "cell_type": "code",
   "execution_count": 11,
   "id": "caf12a6c",
   "metadata": {},
   "outputs": [
    {
     "data": {
      "text/plain": [
       "0       1\n",
       "1     256\n",
       "2    2187\n",
       "3    4096\n",
       "4    3125\n",
       "dtype: int64"
      ]
     },
     "execution_count": 11,
     "metadata": {},
     "output_type": "execute_result"
    }
   ],
   "source": [
    "serie1 ** serie2"
   ]
  },
  {
   "cell_type": "code",
   "execution_count": 12,
   "id": "4760190a",
   "metadata": {},
   "outputs": [
    {
     "data": {
      "text/plain": [
       "0    0.111111\n",
       "1    0.250000\n",
       "2    0.428571\n",
       "3    0.666667\n",
       "4    1.000000\n",
       "dtype: float64"
      ]
     },
     "execution_count": 12,
     "metadata": {},
     "output_type": "execute_result"
    }
   ],
   "source": [
    "serie1 / serie2"
   ]
  },
  {
   "cell_type": "code",
   "execution_count": 13,
   "id": "0fe0c05a",
   "metadata": {},
   "outputs": [
    {
     "data": {
      "text/plain": [
       "0    0\n",
       "1    0\n",
       "2    0\n",
       "3    0\n",
       "4    1\n",
       "dtype: int64"
      ]
     },
     "execution_count": 13,
     "metadata": {},
     "output_type": "execute_result"
    }
   ],
   "source": [
    "serie1 // serie2"
   ]
  },
  {
   "cell_type": "code",
   "execution_count": 14,
   "id": "849562bd",
   "metadata": {},
   "outputs": [
    {
     "data": {
      "text/plain": [
       "0    1\n",
       "1    2\n",
       "2    3\n",
       "3    4\n",
       "4    0\n",
       "dtype: int64"
      ]
     },
     "execution_count": 14,
     "metadata": {},
     "output_type": "execute_result"
    }
   ],
   "source": [
    "serie1 % serie2"
   ]
  },
  {
   "cell_type": "code",
   "execution_count": null,
   "id": "8601c3bc",
   "metadata": {},
   "outputs": [],
   "source": []
  }
 ],
 "metadata": {
  "kernelspec": {
   "display_name": "Python 3 (ipykernel)",
   "language": "python",
   "name": "python3"
  },
  "language_info": {
   "codemirror_mode": {
    "name": "ipython",
    "version": 3
   },
   "file_extension": ".py",
   "mimetype": "text/x-python",
   "name": "python",
   "nbconvert_exporter": "python",
   "pygments_lexer": "ipython3",
   "version": "3.9.7"
  }
 },
 "nbformat": 4,
 "nbformat_minor": 5
}
