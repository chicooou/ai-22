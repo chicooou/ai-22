{
 "cells": [
  {
   "cell_type": "markdown",
   "id": "44f29b70",
   "metadata": {},
   "source": [
    "# Ejercicio 6\n",
    "Convertir dict en una Serie."
   ]
  },
  {
   "cell_type": "code",
   "execution_count": 1,
   "id": "bb3d7763",
   "metadata": {},
   "outputs": [],
   "source": [
    "import pandas as pd"
   ]
  },
  {
   "cell_type": "code",
   "execution_count": 7,
   "id": "3f9fbcda",
   "metadata": {},
   "outputs": [
    {
     "data": {
      "text/plain": [
       "{'nombre': 'juan', 'edad': '25', 'curso': 'matematicas'}"
      ]
     },
     "execution_count": 7,
     "metadata": {},
     "output_type": "execute_result"
    }
   ],
   "source": [
    "dict = {\n",
    "    'nombre': 'juan',\n",
    "    'edad': '25',\n",
    "    'curso': 'matematicas',\n",
    "}\n",
    "dict"
   ]
  },
  {
   "cell_type": "code",
   "execution_count": 10,
   "id": "c378a959",
   "metadata": {},
   "outputs": [],
   "source": [
    " Ndict = pd.Series(dict)"
   ]
  },
  {
   "cell_type": "code",
   "execution_count": 11,
   "id": "19610d9c",
   "metadata": {},
   "outputs": [
    {
     "data": {
      "text/plain": [
       "nombre           juan\n",
       "edad               25\n",
       "curso     matematicas\n",
       "dtype: object"
      ]
     },
     "execution_count": 11,
     "metadata": {},
     "output_type": "execute_result"
    }
   ],
   "source": [
    "Ndict"
   ]
  },
  {
   "cell_type": "code",
   "execution_count": 12,
   "id": "195daf4d",
   "metadata": {},
   "outputs": [
    {
     "data": {
      "text/plain": [
       "'juan'"
      ]
     },
     "execution_count": 12,
     "metadata": {},
     "output_type": "execute_result"
    }
   ],
   "source": [
    "Ndict['nombre']"
   ]
  }
 ],
 "metadata": {
  "kernelspec": {
   "display_name": "Python 3 (ipykernel)",
   "language": "python",
   "name": "python3"
  },
  "language_info": {
   "codemirror_mode": {
    "name": "ipython",
    "version": 3
   },
   "file_extension": ".py",
   "mimetype": "text/x-python",
   "name": "python",
   "nbconvert_exporter": "python",
   "pygments_lexer": "ipython3",
   "version": "3.9.7"
  }
 },
 "nbformat": 4,
 "nbformat_minor": 5
}
